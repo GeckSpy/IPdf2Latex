{
 "cells": [
  {
   "cell_type": "markdown",
   "metadata": {
    "notebookRunGroups": {
     "groupValue": "1"
    }
   },
   "source": [
    "# Hugging Face"
   ]
  },
  {
   "cell_type": "markdown",
   "metadata": {},
   "source": [
    "Hugging Face is an American company that develops computation tools for building applications using machine learning. It is most notable for its transformers library built for natural language processing applications and its platform that allows users to share machine learning models and datasets and showcase their work. \n",
    "\n",
    "The goal of this tutorial is to introduce how to use dataset from hugging face."
   ]
  },
  {
   "cell_type": "markdown",
   "metadata": {},
   "source": [
    "## Searching for datasets"
   ]
  },
  {
   "cell_type": "markdown",
   "metadata": {},
   "source": [
    "First go to the `datasets` tab of the Hugging face website (https://huggingface.co/datasets) and search for what dataset your interesting of. \n",
    "\n",
    "For this tutorials, the goal is to use a dataset that contain images of mathematical formula generated thanks to latex code and there latex equivalent. For example, there is this dataset: https://huggingface.co/datasets/OleehyO/latex-formulas\n",
    "\n",
    "On this page, you can see a preview of the dataset, some informations about the dataset (size:2.78GB, number of formulas(rows):1,558,585, ...) and a quick utilization instructions sometimes."
   ]
  },
  {
   "cell_type": "markdown",
   "metadata": {},
   "source": [
    "## Load dataset"
   ]
  },
  {
   "cell_type": "markdown",
   "metadata": {},
   "source": [
    "First, we will use the `datasets` Python package and load the dataset (you have to have access to a internet connection to load the dataset)."
   ]
  },
  {
   "cell_type": "code",
   "execution_count": 19,
   "metadata": {},
   "outputs": [],
   "source": [
    "from datasets import load_dataset\n",
    "ds = load_dataset(\"OleehyO/latex-formulas\", \"cleaned_formulas\")"
   ]
  },
  {
   "cell_type": "markdown",
   "metadata": {},
   "source": [
    "Note that, here the `\"cleaned_formulas\"` option is to load a specific dataset. To see the details, look forward on the website page."
   ]
  },
  {
   "cell_type": "markdown",
   "metadata": {},
   "source": [
    "## Using dataset"
   ]
  },
  {
   "cell_type": "code",
   "execution_count": 8,
   "metadata": {},
   "outputs": [
    {
     "name": "stdout",
     "output_type": "stream",
     "text": [
      "<class 'datasets.dataset_dict.DatasetDict'>\n",
      "DatasetDict({\n",
      "    train: Dataset({\n",
      "        features: ['image', 'latex_formula'],\n",
      "        num_rows: 552340\n",
      "    })\n",
      "})\n"
     ]
    }
   ],
   "source": [
    "print(type(ds))\n",
    "print(ds)"
   ]
  },
  {
   "cell_type": "markdown",
   "metadata": {},
   "source": [
    "Has you can see, here our dataset only contain one set: `train`. Hovewer, lots of datasets contains multiple sets like: `train`, `validation` and `test`.\n",
    "\n",
    "Moreover, the `train` dataset contain two keys: `image` and `latex_formula` and have 552340 rows.\n",
    "\n",
    "To access any rows you can do:"
   ]
  },
  {
   "cell_type": "code",
   "execution_count": 17,
   "metadata": {},
   "outputs": [
    {
     "name": "stdout",
     "output_type": "stream",
     "text": [
      "<PIL.JpegImagePlugin.JpegImageFile image mode=RGB size=323x44 at 0x760E1ACBBD00>\n",
      "\\begin{align*}-\\div (y^{1-2m}\\nabla w)=0\\mbox{in}\\mathbb R^n\\times\\mathbb R_+;w\\big|_{y=0}=|u|\\end{align*}\n"
     ]
    }
   ],
   "source": [
    "train = ds['train']\n",
    "row_0 = train[0] #The first row of the dataset\n",
    "print(row_0['image'])\n",
    "print(row_0['latex_formula'])"
   ]
  }
 ],
 "metadata": {
  "kernelspec": {
   "display_name": "Python 3",
   "language": "python",
   "name": "python3"
  },
  "language_info": {
   "codemirror_mode": {
    "name": "ipython",
    "version": 3
   },
   "file_extension": ".py",
   "mimetype": "text/x-python",
   "name": "python",
   "nbconvert_exporter": "python",
   "pygments_lexer": "ipython3",
   "version": "3.10.12"
  }
 },
 "nbformat": 4,
 "nbformat_minor": 2
}
