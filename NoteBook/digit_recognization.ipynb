{
 "cells": [
  {
   "cell_type": "markdown",
   "metadata": {},
   "source": [
    "# Digits recognization (logistic regression)"
   ]
  },
  {
   "cell_type": "markdown",
   "metadata": {},
   "source": [
    "The goal of this part is to introduce how to use databases with the famous python packages named Sklearn.\n",
    "In this TP, you will made a AI model that recognize handwritten digits.\n",
    "\n",
    "![alt text](images/digit1.png \"Title\")"
   ]
  },
  {
   "cell_type": "markdown",
   "metadata": {},
   "source": [
    "# 1.Importing database"
   ]
  },
  {
   "cell_type": "markdown",
   "metadata": {
    "notebookRunGroups": {
     "groupValue": "1"
    }
   },
   "source": [
    "First, you will need to install the sklearn packages, to do that, you can run the command: pip install package_name in your terminal.\n",
    "\n",
    "After we will load an existing database of handwritten digits. \n",
    "\n",
    "Has often, we will use the famous numpy packages."
   ]
  },
  {
   "cell_type": "code",
   "execution_count": 2,
   "metadata": {},
   "outputs": [],
   "source": [
    "import numpy as np\n",
    "import sklearn as sk\n",
    "from sklearn import datasets\n",
    "\n",
    "digits = datasets.load_digits()"
   ]
  },
  {
   "cell_type": "markdown",
   "metadata": {},
   "source": [
    "# 2.Database information"
   ]
  },
  {
   "cell_type": "markdown",
   "metadata": {},
   "source": [
    "Database is dictonnary composed of many informations that you can see by running"
   ]
  },
  {
   "cell_type": "code",
   "execution_count": 3,
   "metadata": {},
   "outputs": [
    {
     "name": "stdout",
     "output_type": "stream",
     "text": [
      "dict_keys(['data', 'target', 'frame', 'feature_names', 'target_names', 'images', 'DESCR'])\n"
     ]
    }
   ],
   "source": [
    "print(digits.keys())"
   ]
  },
  {
   "cell_type": "markdown",
   "metadata": {},
   "source": [
    "- `data` is the array of all of images. An image, here, is represented as an array of float of lenght 64 corresponding to a 8x8 images of nuances of grey.\n",
    "- `images` is the array of all of images in an other format. An image, here, is represented as an matrix of float of size 8x8 to a 8x8 images of nuances of grey.\n",
    "- `target` is the array of target value of each images, i.e., the digit represented by the image.\n",
    "- `taget_names` Is  the array of all possible outcomes of value. Here it is the array `[0 1 2 3 4 5 6 7 8 9]`"
   ]
  },
  {
   "cell_type": "markdown",
   "metadata": {},
   "source": [
    "Remember that to access the size of an numpy array you can use the method .shape"
   ]
  },
  {
   "cell_type": "code",
   "execution_count": 4,
   "metadata": {},
   "outputs": [
    {
     "name": "stdout",
     "output_type": "stream",
     "text": [
      "(1797, 64)\n"
     ]
    }
   ],
   "source": [
    "print(digits.data.shape)"
   ]
  },
  {
   "cell_type": "markdown",
   "metadata": {},
   "source": [
    "This means that `digits.data` is a matrix of size 1797x64"
   ]
  },
  {
   "cell_type": "markdown",
   "metadata": {},
   "source": [
    "# 3.Data visualisation"
   ]
  },
  {
   "cell_type": "markdown",
   "metadata": {},
   "source": [
    "We will use the matplotlib.pyplot package to render images of the database.\n",
    "\n",
    "TODO: Create a function to render a single image from the database."
   ]
  },
  {
   "cell_type": "markdown",
   "metadata": {},
   "source": [
    "### Hint:"
   ]
  },
  {
   "cell_type": "markdown",
   "metadata": {
    "notebookRunGroups": {
     "groupValue": "1"
    }
   },
   "source": [
    "Use the matplotlib.pyplot function called `imshow()`"
   ]
  },
  {
   "cell_type": "markdown",
   "metadata": {
    "tags": [
     "parameters"
    ]
   },
   "source": [
    "### Solution"
   ]
  },
  {
   "cell_type": "code",
   "execution_count": 5,
   "metadata": {},
   "outputs": [
    {
     "data": {
      "image/png": "[encoded data removed]",
      "text/plain": [
       "<Figure size 640x480 with 1 Axes>"
      ]
     },
     "metadata": {},
     "output_type": "display_data"
    }
   ],
   "source": [
    "import matplotlib.pyplot as plt\n",
    "plt.rc('font', family='serif', size='18') #Just changing title policy\n",
    "\n",
    "def show_image(i):\n",
    "    # plot the i-th image of the database\n",
    "    plt.imshow(digits.images[i],cmap='binary')\n",
    "    plt.title(digits.target[i])\n",
    "    plt.axis('off')\n",
    "    plt.show()\n",
    "\n",
    "show_image(0)"
   ]
  },
  {
   "cell_type": "markdown",
   "metadata": {},
   "source": [
    "# 4.Splitting dataset"
   ]
  },
  {
   "cell_type": "markdown",
   "metadata": {},
   "source": [
    "We need to split the trainning into two parts: \n",
    "- the tranining part (often around 80% of the database)\n",
    "- the test part (so often 20% of the database)"
   ]
  },
  {
   "cell_type": "code",
   "execution_count": 6,
   "metadata": {},
   "outputs": [
    {
     "name": "stdout",
     "output_type": "stream",
     "text": [
      "dataset training: (1437, 64)\n",
      "dataset test    : (360, 64)\n"
     ]
    }
   ],
   "source": [
    "import random as rd\n",
    "from sklearn.model_selection import train_test_split\n",
    "\n",
    "random_seed = rd.randint(0,4294967295)\n",
    "trainning_size = 0.8\n",
    "# Splitting dataset into 2 parts: trainning and test\n",
    "res = train_test_split(digits.data, digits.target,\n",
    "                        train_size=trainning_size, test_size=1-trainning_size,\n",
    "                        random_state=random_seed)\n",
    "train_data, test_data, train_labels, test_labels = res\n",
    "\n",
    "print(\"dataset training:\", train_data.shape)\n",
    "print(\"dataset test    :\", test_data.shape)"
   ]
  },
  {
   "cell_type": "markdown",
   "metadata": {},
   "source": [
    "If you do not use a random seed, the `res` variable will always be the same.\n",
    "\n",
    "The value `4294967295` is the maximal possible value for random seed for the `train_test_split()` function.\n",
    "\n",
    "`train_data` represent 80% of the dataset, train_labels is the target corresponding to the train_data set.\n",
    "\n",
    "`test_data` represent the last 20% of the dataset, test_labels is the target corresponding to the test_data set."
   ]
  },
  {
   "cell_type": "markdown",
   "metadata": {},
   "source": [
    "# 5.Trainning existing AI model"
   ]
  },
  {
   "cell_type": "markdown",
   "metadata": {},
   "source": [
    "The last step is to use a AI model from the sklearn wich is the logistic regression.\n",
    "\n",
    "TODO: Train a logistic regression model with the `train_data` set. Then output the score of your model on the `train_data` set and on the `test_data` set."
   ]
  },
  {
   "cell_type": "markdown",
   "metadata": {},
   "source": [
    "### Solution"
   ]
  },
  {
   "cell_type": "code",
   "execution_count": 7,
   "metadata": {},
   "outputs": [
    {
     "name": "stdout",
     "output_type": "stream",
     "text": [
      "Training score: 1.0\n",
      "Test score:     0.975\n"
     ]
    }
   ],
   "source": [
    "# Import the logistic regression model\n",
    "from sklearn.linear_model import LogisticRegression\n",
    "\n",
    "# Create the model\n",
    "model = LogisticRegression(max_iter=200)\n",
    "\n",
    "# Train the model with the train_data\n",
    "model.fit(train_data, train_labels)\n",
    "\n",
    "# Print the score\n",
    "print(\"Training score:\", model.score(train_data, train_labels))\n",
    "print(\"Test score:    \", model.score(test_data, test_labels))"
   ]
  },
  {
   "cell_type": "markdown",
   "metadata": {},
   "source": [
    "`model.score(data_set, data_label)` output the ratio of success on the `data_set` set."
   ]
  },
  {
   "cell_type": "markdown",
   "metadata": {},
   "source": [
    "You can visualize those results with the next code cell. More specifically, since the model is pretty good, we highlight only the errors of the logistic regression model on test dataset."
   ]
  },
  {
   "cell_type": "code",
   "execution_count": 29,
   "metadata": {},
   "outputs": [
    {
     "data": {
      "image/png": "[encoded data removed]",
      "text/plain": [
       "<Figure size 640x480 with 1 Axes>"
      ]
     },
     "metadata": {},
     "output_type": "display_data"
    }
   ],
   "source": [
    "errors = []\n",
    "for i in range(len(test_data)):\n",
    "    result = model.predict([test_data[i]])[0]\n",
    "    if result != test_labels[i]:\n",
    "        errors.append(test_labels[i])\n",
    "\n",
    "\n",
    "plt.hist(np.array(errors)-0.25, color='orange')\n",
    "plt.xticks(range(10))\n",
    "plt.xlabel(\"digits\")\n",
    "plt.ylabel(\"number of errors\")\n",
    "plt.show()\n"
   ]
  },
  {
   "cell_type": "markdown",
   "metadata": {},
   "source": [
    "# Explanation of logistic regression"
   ]
  },
  {
   "cell_type": "markdown",
   "metadata": {},
   "source": [
    "explanataion..."
   ]
  }
 ],
 "metadata": {
  "kernelspec": {
   "display_name": "Python 3",
   "language": "python",
   "name": "python3"
  },
  "language_info": {
   "codemirror_mode": {
    "name": "ipython",
    "version": 3
   },
   "file_extension": ".py",
   "mimetype": "text/x-python",
   "name": "python",
   "nbconvert_exporter": "python",
   "pygments_lexer": "ipython3",
   "version": "3.10.12"
  }
 },
 "nbformat": 4,
 "nbformat_minor": 2
}
